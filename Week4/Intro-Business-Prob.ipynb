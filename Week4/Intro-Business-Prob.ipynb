{
 "cells": [
  {
   "cell_type": "markdown",
   "source": [
    "Coursera Capstone Project"
   ],
   "metadata": {}
  },
  {
   "cell_type": "markdown",
   "source": [
    "# 1. Introduction \n",
    "Life in the big cities can be costly, according to the Los Angeles Daily News the median home prices jumped 120,000 US dollars in a year! Single family homes are up to a median of 830,000 US dollars! This makes Los Angeles one of the expensive places to live, giving any family living in the city an incredible amount of pressure.\n",
    "For many families the solution is to move to nearby counties for cheaper housing options. One popular option is the desert cities of Riverside county, located roughly 3 hours drive from Los Angeles and San Diego. The cities offer a nice climate, little congestion and more affordable housing options."
   ],
   "metadata": {}
  },
  {
   "cell_type": "markdown",
   "source": [
    "We will be examining how a family moving the desert cities in the San Bernardino Valley of Riverside County. There are several cities, some quite vibrant while others are slow and sleepy. Since congestion is quite minimal, a family can pick any of the cities in the valley and easily commute between them.\n",
    "\n",
    "Riverside County Desert Cities:\n",
    "- Cathedral City\n",
    "- Coachella\n",
    "- Desert Hot Springs\n",
    "- Indian Wells\n",
    "- Indio\n",
    "- La Quinta\n",
    "- Palm Desert\n",
    "- Palm Springs\n",
    "- Rancho Mirage"
   ],
   "metadata": {}
  },
  {
   "cell_type": "markdown",
   "source": [
    "# 2. Data"
   ],
   "metadata": {}
  },
  {
   "cell_type": "markdown",
   "source": [
    "While the family can chose any cities we will be considering a few different factors\n",
    "- Crime Rate\n",
    "- Average Home Price\n",
    "- Price per Square Foot\n",
    "- Type and Amount of Housing available. (Bedrooms and Bathrooms)\n",
    "- Nearby Venues from Foursquare\n",
    "\n",
    "A potential will have relatively low crime rates, low home prices (which can be compared by 'price per square foot') and high levels of houses to choose from. \n",
    "\n",
    "For general geographic data on cities, location and borders we will be accessing it at Homeland Infrastructure Foundation-Level Data (HIFLD). \n",
    "- https://medium.com/r/?url=https%3A%2F%2Fhifld-geoplatform.opendata.arcgis.com\n",
    "\n",
    "For Crime statistics we will be using the FBI crime reporting statistics. \n",
    "- https://medium.com/r/?url=https%3A%2F%2Fcrime-data-explorer.fr.cloud.gov%2Fpages%2FdocApi\n",
    "\n",
    "For general geographic information we will be using HPMS Geospatial data. \n",
    "- https://medium.com/r/?url=https%3A%2F%2Fwww.fhwa.dot.gov%2Fpolicyinformation%2Fhpms%2Fshapefiles.cfm\n",
    "\n",
    "Real-estate data is a bit difficult to find, at least for free, most Real-Estate APIs require subscription, therefore we will be scraping Zillow website for up-to-date real estate prices. However even the web-scraping has it's limitations, as Zillow starts blocking bots, and we have a limited sample set.\n",
    "- https://medium.com/r/?url=http%3A%2F%2Fwww.zillow.com\n",
    "\n",
    "For Venue information we will be using the Foursquare API\n",
    "- https://foursquare.com"
   ],
   "metadata": {}
  },
  {
   "cell_type": "markdown",
   "source": [],
   "metadata": {}
  }
 ],
 "metadata": {
  "orig_nbformat": 4,
  "language_info": {
   "name": "python"
  }
 },
 "nbformat": 4,
 "nbformat_minor": 2
}