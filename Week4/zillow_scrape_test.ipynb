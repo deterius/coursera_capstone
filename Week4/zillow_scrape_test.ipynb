{
 "cells": [
  {
   "cell_type": "code",
   "execution_count": 2,
   "source": [
    "import os\n",
    "from bs4 import BeautifulSoup\n",
    "from selenium import webdriver\n",
    "from selenium.webdriver.common.keys import Keys\n",
    "from selenium.webdriver.common.by import By\n",
    "import time\n",
    "import sys\n",
    "import numpy as np\n",
    "import pandas as pd\n",
    "import regex as re\n",
    "import requests\n",
    "import lxml\n",
    "from lxml.html.soupparser import fromstring\n",
    "import prettify\n",
    "import numbers\n",
    "import htmltext\n",
    "\n"
   ],
   "outputs": [],
   "metadata": {}
  },
  {
   "cell_type": "code",
   "execution_count": 3,
   "source": [
    "#for the youtube tutorial\n",
    "import json\n",
    "import time\n",
    "import csv"
   ],
   "outputs": [],
   "metadata": {}
  },
  {
   "cell_type": "code",
   "execution_count": 3,
   "source": [
    "#set some display settings for notebooks\n",
    "pd.set_option('display.max_rows', 500)\n",
    "pd.set_option('display.max_columns', 500)\n",
    "pd.set_option('display.width', 1000)"
   ],
   "outputs": [],
   "metadata": {}
  },
  {
   "cell_type": "code",
   "execution_count": 5,
   "source": [
    "# Tutorial: https://www.youtube.com/watch?v=dRcvJRmqFHQ&lc=UgyUDvoIA0A37EWWoC54AaABAg.9Aem3mXGQzz9Aep5dNrAY6\n",
    "import requests\n",
    "from bs4 import BeautifulSoup\n",
    "import json\n",
    "import time\n",
    "import csv\n",
    "import pandas as pd\n",
    "import os\n",
    "import random\n",
    "\n",
    "\n",
    "USER_AGENTS = [\n",
    "    ('Mozilla/5.0 (X11; Linux x86_64) '\n",
    "     'AppleWebKit/537.36 (KHTML, like Gecko) '\n",
    "     'Chrome/57.0.2987.110 '\n",
    "     'Safari/537.36'),  # chrome\n",
    "    ('Mozilla/5.0 (X11; Linux x86_64) '\n",
    "     'AppleWebKit/537.36 (KHTML, like Gecko) '\n",
    "     'Chrome/61.0.3163.79 '\n",
    "     'Safari/537.36'),  # chrome\n",
    "    ('Mozilla/5.0 (X11; Ubuntu; Linux x86_64; rv:55.0) '\n",
    "     'Gecko/20100101 '\n",
    "     'Firefox/55.0'),  # firefox\n",
    "    ('Mozilla/5.0 (X11; Linux x86_64) '\n",
    "     'AppleWebKit/537.36 (KHTML, like Gecko) '\n",
    "     'Chrome/61.0.3163.91 '\n",
    "     'Safari/537.36'),  # chrome\n",
    "    ('Mozilla/5.0 (X11; Linux x86_64) '\n",
    "     'AppleWebKit/537.36 (KHTML, like Gecko) '\n",
    "     'Chrome/62.0.3202.89 '\n",
    "     'Safari/537.36'),  # chrome\n",
    "    ('Mozilla/5.0 (X11; Linux x86_64) '\n",
    "     'AppleWebKit/537.36 (KHTML, like Gecko) '\n",
    "     'Chrome/63.0.3239.108 '\n",
    "     'Safari/537.36'),  # chrome\n",
    "]\n",
    "\n",
    "proxies=[\"https://193.200.211.19:8080\",\n",
    "        \"https://103.216.51.210:8191\",\n",
    "        \"https://195.154.42.163:7777\",\n",
    "        \"https://188.165.141.114:3129\"]\n",
    "\n",
    "\n",
    "class ZillowScraper():\n",
    "    results = []\n",
    "    headers = {\n",
    "        'accept': 'text/html,application/xhtml+xml,application/xml;q=0.9,image/webp,image/apng,*/*;q=0.8,application/signed-exchange;v=b3',\n",
    "        'accept-encoding': 'gzip, deflate, br',\n",
    "        'accept-language': 'en-US,en;q=0.9',\n",
    "        'cache-control': 'no-cache',\n",
    "        'cookie': 'zguid=23|%2403435e76-0699-4a32-b86d-77d033c907ef; _ga=GA1.2.1271511001.1575011821; zjs_user_id=null; zjs_anonymous_id=%2203435e76-0699-4a32-b86d-77d033c907ef%22; _gcl_au=1.1.1333357279.1575011822; _pxvid=3cfcc163-1278-11ea-bff8-0242ac12000b; ki_r=; __gads=ID=84d8013cfac6df96:T=1575012041:S=ALNI_MaSvVNZsir2JXJ17pv54bjsPuyfcw; ki_s=199442%3A0.0.0.0.0%3B199444%3A0.0.0.0.2; zgsession=1|c0999376-b167-4a47-a1cd-0e456d882d4e; _gid=GA1.2.55965867.1578668946; JSESSIONID=87D0662A6BC141A73F0D12620788519C; KruxPixel=true; DoubleClickSession=true; KruxAddition=true; ki_t=1575011869563%3B1578669044158%3B1578669044158%3B2%3B10; _pxff_tm=1; _px3=2e6809e35ce7e076934ff998c2bdb8140e8b793b53e08a27c5da11f1b4760755:DFItCmrETuS2OQcztcFmt0FYPUn00ihAAue2ynQgbfSq6H+p2yP3Rl3aeyls3Unr1VRJSgcNue8Rr1SUq4P1jA==:1000:9ueZvAJ6v5y4ny7psGF25dK+d3GlytY2Bh+Xj9UUhC4DaioIZ+FMXPU0mOX+Qnghqut0jIT61gLecN4fyu6qXaPDlBX6YsZVbIry1YyBN/37l0Ri3JP+E0h+m+QEBB+bqb6MbE2HtgGBJRJAry8dgOKGM5JtBGdX+X/nuQX1xaw=; AWSALB=E6JYC43gXQRlE2jPT9e2vAQOYPvdHnccBlqi0mcXevYExTaHro0M+uo/Qxahi6JyLz9LpotY9eLtEbYrAOeQXcCm6UhjWnTopQHernmjlR/ibE6JmE8F6tReiBn4; search=6|1581261153229%7Crect%3D40.96202658306895%252C-73.55498286718745%252C40.4487909557045%252C-74.40093013281245%26rid%3D6181%26disp%3Dmap%26mdm%3Dauto%26p%3D3%26z%3D0%26lt%3Dfsbo%26pt%3Dpmf%252Cpf%26fs%3D1%26fr%3D0%26mmm%3D1%26rs%3D0%26ah%3D0%26singlestory%3D0%26housing-connector%3D0%26abo%3D0%26garage%3D0%26pool%3D0%26ac%3D0%26waterfront%3D0%26finished%3D0%26unfinished%3D0%26cityview%3D0%26mountainview%3D0%26parkview%3D0%26waterview%3D0%26hoadata%3D1%26zillow-owned%3D0%09%01%096181%09%09%09%090%09US_%09',\n",
    "        'pragma': 'no-cache',\n",
    "        'upgrade-insecure-requests': '1',\n",
    "        'user-agent': 'Mozilla/5.0 (X11; Linux x86_64) AppleWebKit/537.36 (KHTML, like Gecko) Ubuntu Chromium/75.0.3770.142 Chrome/75.0.3770.142 Safari/537.36'\n",
    "    }\n",
    "\n",
    "    def fetch(self, url, params):\n",
    "        self.headers['user-agent'] = random.choice(USER_AGENTS)\n",
    "        response = requests.get(url, headers=self.headers, params=params, proxies={'https': random.choice(proxies)})\n",
    "        print(response.status_code)\n",
    "        return response\n",
    "\n",
    "    def parse(self, response):\n",
    "        content = BeautifulSoup(response, 'lxml')\n",
    "        deck = content.find('ul', {'class': 'photo-cards photo-cards_wow photo-cards_short'})\n",
    "        for card in deck.contents:\n",
    "            script = card.find('script', {'type': 'application/ld+json'})\n",
    "            if script:\n",
    "                script_json = json.loads(script.contents[0])\n",
    "                self.headers['user-agent'] = random.choice(USER_AGENTS)\n",
    "                loop_response = requests.get(script_json['url'], headers=self.headers, proxies={'https': random.choice(proxies)})\n",
    "                loop_soup = BeautifulSoup(loop_response.text, 'html.parser')\n",
    "                try:\n",
    "                    loop_result2 = loop_soup.findAll('div', class_=\"ds-expandable-card-section-default-padding\")[\n",
    "                        1].findAll('li', class_=\"ds-home-fact-list-item\")\n",
    "                except IndexError:\n",
    "                    loop_result2 = 'null'\n",
    "                lot = 'null'; \n",
    "                house_type = 'null';\n",
    "                year_build = 'null';\n",
    "                parking = 'null';\n",
    "                hoa = 'null';\n",
    "                lot_conversion_to_sqft = 'null';\n",
    "                zillow_price_per_sqft = 'null';\n",
    "\n",
    "                if loop_result2:\n",
    "                    for contents in loop_result2:\n",
    "                        print(contents.text)\n",
    "                        if \"Lot\" in contents.text.split(\":\")[0]:\n",
    "                            lot = contents.text.split(\":\")[1];\n",
    "                        if \"Type\" in contents.text.split(\":\")[0]:\n",
    "                            house_type = contents.text.split(\":\")[1];\n",
    "                        if \"Year built\" in contents.text.split(\":\")[0]:\n",
    "                            year_build = contents.text.split(\":\")[1];\n",
    "                        if \"Parking\" in contents.text.split(\":\")[0]:\n",
    "                            parking = contents.text.split(\":\")[1];\n",
    "                        if \"HOA\" in contents.text.split(\":\")[0]:\n",
    "                            hoa = contents.text.split(\":\")[1];\n",
    "                        if \"Price/sqft\" in contents.text.split(\":\")[0]:\n",
    "                            zillow_price_per_sqft = contents.text.split(\":\")[1];\n",
    "\n",
    "                    try:\n",
    "                        zestimate = loop_soup.findAll('div', class_=\"ds-expandable-card-section-default-padding\")[\n",
    "                            2].find('p', class_=\"Text-aiai24-0 sc-cMljjf sc-cTjmhe eXGbuO\").text\n",
    "                        rent_zestimate = loop_soup.findAll('div', class_=\"ds-expandable-card-section-default-padding\")[\n",
    "                            3].find('p', class_=\"Text-aiai24-0 sc-cMljjf sc-cTjmhe eXGbuO\").text\n",
    "                    except AttributeError:\n",
    "                        zestimate = 'null'\n",
    "                        rent_zestimate = 'null'\n",
    "                    try:\n",
    "                        if (str(lot.split(\" \")[1]) == \"sqft\"):\n",
    "                            lot_conversion_to_sqft = float(lot.split(\" \")[0].replace(',', \"\"));\n",
    "                        elif ((str(lot.split(\" \")[1]) == \"acres\") or (str(lot.split(\" \")[1]) == \"acre\")):\n",
    "                            lot_conversion_to_sqft = round(float(lot.split(\" \")[0].replace(',', \"\")) * 43560, 2);\n",
    "                        elif (lot == \"No Data\"):\n",
    "                            lot_conversion_to_sqft = 'null'\n",
    "                        else:\n",
    "                            lot_conversion_to_sqft = 'null'\n",
    "                    except IndexError:\n",
    "                        lot_conversion_to_sqft = 'null'\n",
    "\n",
    "                    self.results.append({\n",
    "                        'Listing_type': card.find('div', {'class': 'list-card-type'}).text,\n",
    "                        'Price': card.find('div', {'class': 'list-card-price'}).text,\n",
    "                        'Full_address': script_json['name'],\n",
    "                        'Street': script_json['address']['streetAddress'],\n",
    "                        'City': script_json['address']['addressLocality'],\n",
    "                        'State': script_json['address']['addressRegion'],\n",
    "                        'Zip_code': script_json['address']['postalCode'],\n",
    "                        'Latitude': script_json['geo']['latitude'],\n",
    "                        'Longitude': script_json['geo']['longitude'],\n",
    "                        'Square_Feet': script_json['floorSize']['value'],\n",
    "                        'Lot': lot,\n",
    "                        'Lot_conversion_to_sqft': lot_conversion_to_sqft,\n",
    "                        'House_type': house_type,\n",
    "                        'Year_build': year_build,\n",
    "                        'Parking': parking,\n",
    "                        'Hoa': hoa,\n",
    "                        'Zillow_price_per_sqft': zillow_price_per_sqft,\n",
    "                        'Zestimate': zestimate,\n",
    "                        'Rent_zestimate': rent_zestimate,\n",
    "                        'House_website': script_json['url']\n",
    "                    })\n",
    "                    time.sleep(3)\n",
    "\n",
    "    def to_csv(self):\n",
    "        dirName = 'Output/Zillow/'\n",
    "        if not os.path.exists(dirName):\n",
    "            os.mkdir(dirName)\n",
    "            print(\"Directory \", dirName, \" Folder created \")\n",
    "        else:\n",
    "            print(\"Directory \", dirName, \" Folder already exists\")\n",
    "\n",
    "        with open('./' + dirName + 'Q2-2020_Single_Family_Data_page17-20.csv', 'w') as csv_file:\n",
    "            writer = csv.DictWriter(csv_file, fieldnames=self.results[0].keys())\n",
    "            writer.writeheader()\n",
    "\n",
    "            for row in self.results:\n",
    "                writer.writerow(row)\n",
    "\n",
    "    def to_dftable(self):\n",
    "        house_data = pd.DataFrame(self.results)\n",
    "        print(house_data)\n",
    "\n",
    "    #     Filter Out Coming Soon, Auction, Home Type: Houses, Days On Zillow: 90 Days\n",
    "    def run(self):\n",
    "        url = 'https://www.zillow.com/ca/houses/'\n",
    "        for page in range(17, 21):\n",
    "            params = {\n",
    "                'searchQueryState': '{\"pagination\":{\"currentPage\":%s},\"usersSearchTerm\":\"ca\",\"mapBounds\":\"mapBounds\":{\"west\":-116.73594918758027,\"east\":-115.8364435723459,\"south\":33.43613945636894,\"north\":34.202829290316075},\"regionSelection\":[{\"regionId\":9,\"regionType\":2}],\"isMapVisible\":true,\"mapZoom\":5,\"filterState\":{\"sortSelection\":{\"value\":\"globalrelevanceex\"},\"isCondo\":{\"value\":false},\"isMultiFamily\":{\"value\":false},\"isManufactured\":{\"value\":false},\"isLotLand\":{\"value\":false},\"isTownhouse\":{\"value\":false},\"isApartment\":{\"value\":false},\"isComingSoon\":{\"value\":false},\"isAuction\":{\"value\":false},\"doz\":{\"value\":\"90\"}},\"isListVisible\":true}' % page\n",
    "            }\n",
    "            res = self.fetch(url, params)\n",
    "            self.parse(res.text)\n",
    "            time.sleep(2)\n",
    "        self.to_dftable()\n",
    "        self.to_csv()\n",
    "\n",
    "\n",
    "if __name__ == '__main__':\n",
    "    scraper = ZillowScraper()\n",
    "    scraper.run();"
   ],
   "outputs": [
    {
     "output_type": "error",
     "ename": "ProxyError",
     "evalue": "HTTPSConnectionPool(host='www.zillow.com', port=443): Max retries exceeded with url: /ca/houses/?searchQueryState=%7B%22pagination%22%3A%7B%22currentPage%22%3A17%7D%2C%22usersSearchTerm%22%3A%22ca%22%2C%22mapBounds%22%3A%22mapBounds%22%3A%7B%22west%22%3A-116.73594918758027%2C%22east%22%3A-115.8364435723459%2C%22south%22%3A33.43613945636894%2C%22north%22%3A34.202829290316075%7D%2C%22regionSelection%22%3A%5B%7B%22regionId%22%3A9%2C%22regionType%22%3A2%7D%5D%2C%22isMapVisible%22%3Atrue%2C%22mapZoom%22%3A5%2C%22filterState%22%3A%7B%22sortSelection%22%3A%7B%22value%22%3A%22globalrelevanceex%22%7D%2C%22isCondo%22%3A%7B%22value%22%3Afalse%7D%2C%22isMultiFamily%22%3A%7B%22value%22%3Afalse%7D%2C%22isManufactured%22%3A%7B%22value%22%3Afalse%7D%2C%22isLotLand%22%3A%7B%22value%22%3Afalse%7D%2C%22isTownhouse%22%3A%7B%22value%22%3Afalse%7D%2C%22isApartment%22%3A%7B%22value%22%3Afalse%7D%2C%22isComingSoon%22%3A%7B%22value%22%3Afalse%7D%2C%22isAuction%22%3A%7B%22value%22%3Afalse%7D%2C%22doz%22%3A%7B%22value%22%3A%2290%22%7D%7D%2C%22isListVisible%22%3Atrue%7D (Caused by ProxyError('Cannot connect to proxy.', RemoteDisconnected('Remote end closed connection without response')))",
     "traceback": [
      "\u001b[0;31m---------------------------------------------------------------------------\u001b[0m",
      "\u001b[0;31mRemoteDisconnected\u001b[0m                        Traceback (most recent call last)",
      "\u001b[0;32m~/opt/anaconda3/lib/python3.8/site-packages/urllib3/connectionpool.py\u001b[0m in \u001b[0;36murlopen\u001b[0;34m(self, method, url, body, headers, retries, redirect, assert_same_host, timeout, pool_timeout, release_conn, chunked, body_pos, **response_kw)\u001b[0m\n\u001b[1;32m    666\u001b[0m             \u001b[0;32mif\u001b[0m \u001b[0mis_new_proxy_conn\u001b[0m\u001b[0;34m:\u001b[0m\u001b[0;34m\u001b[0m\u001b[0;34m\u001b[0m\u001b[0m\n\u001b[0;32m--> 667\u001b[0;31m                 \u001b[0mself\u001b[0m\u001b[0;34m.\u001b[0m\u001b[0m_prepare_proxy\u001b[0m\u001b[0;34m(\u001b[0m\u001b[0mconn\u001b[0m\u001b[0;34m)\u001b[0m\u001b[0;34m\u001b[0m\u001b[0;34m\u001b[0m\u001b[0m\n\u001b[0m\u001b[1;32m    668\u001b[0m \u001b[0;34m\u001b[0m\u001b[0m\n",
      "\u001b[0;32m~/opt/anaconda3/lib/python3.8/site-packages/urllib3/connectionpool.py\u001b[0m in \u001b[0;36m_prepare_proxy\u001b[0;34m(self, conn)\u001b[0m\n\u001b[1;32m    931\u001b[0m         \u001b[0mconn\u001b[0m\u001b[0;34m.\u001b[0m\u001b[0mset_tunnel\u001b[0m\u001b[0;34m(\u001b[0m\u001b[0mself\u001b[0m\u001b[0;34m.\u001b[0m\u001b[0m_proxy_host\u001b[0m\u001b[0;34m,\u001b[0m \u001b[0mself\u001b[0m\u001b[0;34m.\u001b[0m\u001b[0mport\u001b[0m\u001b[0;34m,\u001b[0m \u001b[0mself\u001b[0m\u001b[0;34m.\u001b[0m\u001b[0mproxy_headers\u001b[0m\u001b[0;34m)\u001b[0m\u001b[0;34m\u001b[0m\u001b[0;34m\u001b[0m\u001b[0m\n\u001b[0;32m--> 932\u001b[0;31m         \u001b[0mconn\u001b[0m\u001b[0;34m.\u001b[0m\u001b[0mconnect\u001b[0m\u001b[0;34m(\u001b[0m\u001b[0;34m)\u001b[0m\u001b[0;34m\u001b[0m\u001b[0;34m\u001b[0m\u001b[0m\n\u001b[0m\u001b[1;32m    933\u001b[0m \u001b[0;34m\u001b[0m\u001b[0m\n",
      "\u001b[0;32m~/opt/anaconda3/lib/python3.8/site-packages/urllib3/connection.py\u001b[0m in \u001b[0;36mconnect\u001b[0;34m(self)\u001b[0m\n\u001b[1;32m    316\u001b[0m             \u001b[0;31m# self._tunnel_host below.\u001b[0m\u001b[0;34m\u001b[0m\u001b[0;34m\u001b[0m\u001b[0;34m\u001b[0m\u001b[0m\n\u001b[0;32m--> 317\u001b[0;31m             \u001b[0mself\u001b[0m\u001b[0;34m.\u001b[0m\u001b[0m_tunnel\u001b[0m\u001b[0;34m(\u001b[0m\u001b[0;34m)\u001b[0m\u001b[0;34m\u001b[0m\u001b[0;34m\u001b[0m\u001b[0m\n\u001b[0m\u001b[1;32m    318\u001b[0m             \u001b[0;31m# Mark this connection as not reusable\u001b[0m\u001b[0;34m\u001b[0m\u001b[0;34m\u001b[0m\u001b[0;34m\u001b[0m\u001b[0m\n",
      "\u001b[0;32m~/opt/anaconda3/lib/python3.8/http/client.py\u001b[0m in \u001b[0;36m_tunnel\u001b[0;34m(self)\u001b[0m\n\u001b[1;32m    899\u001b[0m         \u001b[0mresponse\u001b[0m \u001b[0;34m=\u001b[0m \u001b[0mself\u001b[0m\u001b[0;34m.\u001b[0m\u001b[0mresponse_class\u001b[0m\u001b[0;34m(\u001b[0m\u001b[0mself\u001b[0m\u001b[0;34m.\u001b[0m\u001b[0msock\u001b[0m\u001b[0;34m,\u001b[0m \u001b[0mmethod\u001b[0m\u001b[0;34m=\u001b[0m\u001b[0mself\u001b[0m\u001b[0;34m.\u001b[0m\u001b[0m_method\u001b[0m\u001b[0;34m)\u001b[0m\u001b[0;34m\u001b[0m\u001b[0;34m\u001b[0m\u001b[0m\n\u001b[0;32m--> 900\u001b[0;31m         \u001b[0;34m(\u001b[0m\u001b[0mversion\u001b[0m\u001b[0;34m,\u001b[0m \u001b[0mcode\u001b[0m\u001b[0;34m,\u001b[0m \u001b[0mmessage\u001b[0m\u001b[0;34m)\u001b[0m \u001b[0;34m=\u001b[0m \u001b[0mresponse\u001b[0m\u001b[0;34m.\u001b[0m\u001b[0m_read_status\u001b[0m\u001b[0;34m(\u001b[0m\u001b[0;34m)\u001b[0m\u001b[0;34m\u001b[0m\u001b[0;34m\u001b[0m\u001b[0m\n\u001b[0m\u001b[1;32m    901\u001b[0m \u001b[0;34m\u001b[0m\u001b[0m\n",
      "\u001b[0;32m~/opt/anaconda3/lib/python3.8/http/client.py\u001b[0m in \u001b[0;36m_read_status\u001b[0;34m(self)\u001b[0m\n\u001b[1;32m    275\u001b[0m             \u001b[0;31m# sending a valid response.\u001b[0m\u001b[0;34m\u001b[0m\u001b[0;34m\u001b[0m\u001b[0;34m\u001b[0m\u001b[0m\n\u001b[0;32m--> 276\u001b[0;31m             raise RemoteDisconnected(\"Remote end closed connection without\"\n\u001b[0m\u001b[1;32m    277\u001b[0m                                      \" response\")\n",
      "\u001b[0;31mRemoteDisconnected\u001b[0m: Remote end closed connection without response",
      "\nDuring handling of the above exception, another exception occurred:\n",
      "\u001b[0;31mMaxRetryError\u001b[0m                             Traceback (most recent call last)",
      "\u001b[0;32m~/opt/anaconda3/lib/python3.8/site-packages/requests/adapters.py\u001b[0m in \u001b[0;36msend\u001b[0;34m(self, request, stream, timeout, verify, cert, proxies)\u001b[0m\n\u001b[1;32m    438\u001b[0m             \u001b[0;32mif\u001b[0m \u001b[0;32mnot\u001b[0m \u001b[0mchunked\u001b[0m\u001b[0;34m:\u001b[0m\u001b[0;34m\u001b[0m\u001b[0;34m\u001b[0m\u001b[0m\n\u001b[0;32m--> 439\u001b[0;31m                 resp = conn.urlopen(\n\u001b[0m\u001b[1;32m    440\u001b[0m                     \u001b[0mmethod\u001b[0m\u001b[0;34m=\u001b[0m\u001b[0mrequest\u001b[0m\u001b[0;34m.\u001b[0m\u001b[0mmethod\u001b[0m\u001b[0;34m,\u001b[0m\u001b[0;34m\u001b[0m\u001b[0;34m\u001b[0m\u001b[0m\n",
      "\u001b[0;32m~/opt/anaconda3/lib/python3.8/site-packages/urllib3/connectionpool.py\u001b[0m in \u001b[0;36murlopen\u001b[0;34m(self, method, url, body, headers, retries, redirect, assert_same_host, timeout, pool_timeout, release_conn, chunked, body_pos, **response_kw)\u001b[0m\n\u001b[1;32m    725\u001b[0m \u001b[0;34m\u001b[0m\u001b[0m\n\u001b[0;32m--> 726\u001b[0;31m             retries = retries.increment(\n\u001b[0m\u001b[1;32m    727\u001b[0m                 \u001b[0mmethod\u001b[0m\u001b[0;34m,\u001b[0m \u001b[0murl\u001b[0m\u001b[0;34m,\u001b[0m \u001b[0merror\u001b[0m\u001b[0;34m=\u001b[0m\u001b[0me\u001b[0m\u001b[0;34m,\u001b[0m \u001b[0m_pool\u001b[0m\u001b[0;34m=\u001b[0m\u001b[0mself\u001b[0m\u001b[0;34m,\u001b[0m \u001b[0m_stacktrace\u001b[0m\u001b[0;34m=\u001b[0m\u001b[0msys\u001b[0m\u001b[0;34m.\u001b[0m\u001b[0mexc_info\u001b[0m\u001b[0;34m(\u001b[0m\u001b[0;34m)\u001b[0m\u001b[0;34m[\u001b[0m\u001b[0;36m2\u001b[0m\u001b[0;34m]\u001b[0m\u001b[0;34m\u001b[0m\u001b[0;34m\u001b[0m\u001b[0m\n",
      "\u001b[0;32m~/opt/anaconda3/lib/python3.8/site-packages/urllib3/util/retry.py\u001b[0m in \u001b[0;36mincrement\u001b[0;34m(self, method, url, response, error, _pool, _stacktrace)\u001b[0m\n\u001b[1;32m    445\u001b[0m         \u001b[0;32mif\u001b[0m \u001b[0mnew_retry\u001b[0m\u001b[0;34m.\u001b[0m\u001b[0mis_exhausted\u001b[0m\u001b[0;34m(\u001b[0m\u001b[0;34m)\u001b[0m\u001b[0;34m:\u001b[0m\u001b[0;34m\u001b[0m\u001b[0;34m\u001b[0m\u001b[0m\n\u001b[0;32m--> 446\u001b[0;31m             \u001b[0;32mraise\u001b[0m \u001b[0mMaxRetryError\u001b[0m\u001b[0;34m(\u001b[0m\u001b[0m_pool\u001b[0m\u001b[0;34m,\u001b[0m \u001b[0murl\u001b[0m\u001b[0;34m,\u001b[0m \u001b[0merror\u001b[0m \u001b[0;32mor\u001b[0m \u001b[0mResponseError\u001b[0m\u001b[0;34m(\u001b[0m\u001b[0mcause\u001b[0m\u001b[0;34m)\u001b[0m\u001b[0;34m)\u001b[0m\u001b[0;34m\u001b[0m\u001b[0;34m\u001b[0m\u001b[0m\n\u001b[0m\u001b[1;32m    447\u001b[0m \u001b[0;34m\u001b[0m\u001b[0m\n",
      "\u001b[0;31mMaxRetryError\u001b[0m: HTTPSConnectionPool(host='www.zillow.com', port=443): Max retries exceeded with url: /ca/houses/?searchQueryState=%7B%22pagination%22%3A%7B%22currentPage%22%3A17%7D%2C%22usersSearchTerm%22%3A%22ca%22%2C%22mapBounds%22%3A%22mapBounds%22%3A%7B%22west%22%3A-116.73594918758027%2C%22east%22%3A-115.8364435723459%2C%22south%22%3A33.43613945636894%2C%22north%22%3A34.202829290316075%7D%2C%22regionSelection%22%3A%5B%7B%22regionId%22%3A9%2C%22regionType%22%3A2%7D%5D%2C%22isMapVisible%22%3Atrue%2C%22mapZoom%22%3A5%2C%22filterState%22%3A%7B%22sortSelection%22%3A%7B%22value%22%3A%22globalrelevanceex%22%7D%2C%22isCondo%22%3A%7B%22value%22%3Afalse%7D%2C%22isMultiFamily%22%3A%7B%22value%22%3Afalse%7D%2C%22isManufactured%22%3A%7B%22value%22%3Afalse%7D%2C%22isLotLand%22%3A%7B%22value%22%3Afalse%7D%2C%22isTownhouse%22%3A%7B%22value%22%3Afalse%7D%2C%22isApartment%22%3A%7B%22value%22%3Afalse%7D%2C%22isComingSoon%22%3A%7B%22value%22%3Afalse%7D%2C%22isAuction%22%3A%7B%22value%22%3Afalse%7D%2C%22doz%22%3A%7B%22value%22%3A%2290%22%7D%7D%2C%22isListVisible%22%3Atrue%7D (Caused by ProxyError('Cannot connect to proxy.', RemoteDisconnected('Remote end closed connection without response')))",
      "\nDuring handling of the above exception, another exception occurred:\n",
      "\u001b[0;31mProxyError\u001b[0m                                Traceback (most recent call last)",
      "\u001b[0;32m<ipython-input-5-4295f7d3449c>\u001b[0m in \u001b[0;36m<module>\u001b[0;34m\u001b[0m\n\u001b[1;32m    179\u001b[0m \u001b[0;32mif\u001b[0m \u001b[0m__name__\u001b[0m \u001b[0;34m==\u001b[0m \u001b[0;34m'__main__'\u001b[0m\u001b[0;34m:\u001b[0m\u001b[0;34m\u001b[0m\u001b[0;34m\u001b[0m\u001b[0m\n\u001b[1;32m    180\u001b[0m     \u001b[0mscraper\u001b[0m \u001b[0;34m=\u001b[0m \u001b[0mZillowScraper\u001b[0m\u001b[0;34m(\u001b[0m\u001b[0;34m)\u001b[0m\u001b[0;34m\u001b[0m\u001b[0;34m\u001b[0m\u001b[0m\n\u001b[0;32m--> 181\u001b[0;31m     \u001b[0mscraper\u001b[0m\u001b[0;34m.\u001b[0m\u001b[0mrun\u001b[0m\u001b[0;34m(\u001b[0m\u001b[0;34m)\u001b[0m\u001b[0;34m;\u001b[0m\u001b[0;34m\u001b[0m\u001b[0;34m\u001b[0m\u001b[0m\n\u001b[0m",
      "\u001b[0;32m<ipython-input-5-4295f7d3449c>\u001b[0m in \u001b[0;36mrun\u001b[0;34m(self)\u001b[0m\n\u001b[1;32m    170\u001b[0m                 \u001b[0;34m'searchQueryState'\u001b[0m\u001b[0;34m:\u001b[0m \u001b[0;34m'{\"pagination\":{\"currentPage\":%s},\"usersSearchTerm\":\"ca\",\"mapBounds\":\"mapBounds\":{\"west\":-116.73594918758027,\"east\":-115.8364435723459,\"south\":33.43613945636894,\"north\":34.202829290316075},\"regionSelection\":[{\"regionId\":9,\"regionType\":2}],\"isMapVisible\":true,\"mapZoom\":5,\"filterState\":{\"sortSelection\":{\"value\":\"globalrelevanceex\"},\"isCondo\":{\"value\":false},\"isMultiFamily\":{\"value\":false},\"isManufactured\":{\"value\":false},\"isLotLand\":{\"value\":false},\"isTownhouse\":{\"value\":false},\"isApartment\":{\"value\":false},\"isComingSoon\":{\"value\":false},\"isAuction\":{\"value\":false},\"doz\":{\"value\":\"90\"}},\"isListVisible\":true}'\u001b[0m \u001b[0;34m%\u001b[0m \u001b[0mpage\u001b[0m\u001b[0;34m\u001b[0m\u001b[0;34m\u001b[0m\u001b[0m\n\u001b[1;32m    171\u001b[0m             }\n\u001b[0;32m--> 172\u001b[0;31m             \u001b[0mres\u001b[0m \u001b[0;34m=\u001b[0m \u001b[0mself\u001b[0m\u001b[0;34m.\u001b[0m\u001b[0mfetch\u001b[0m\u001b[0;34m(\u001b[0m\u001b[0murl\u001b[0m\u001b[0;34m,\u001b[0m \u001b[0mparams\u001b[0m\u001b[0;34m)\u001b[0m\u001b[0;34m\u001b[0m\u001b[0;34m\u001b[0m\u001b[0m\n\u001b[0m\u001b[1;32m    173\u001b[0m             \u001b[0mself\u001b[0m\u001b[0;34m.\u001b[0m\u001b[0mparse\u001b[0m\u001b[0;34m(\u001b[0m\u001b[0mres\u001b[0m\u001b[0;34m.\u001b[0m\u001b[0mtext\u001b[0m\u001b[0;34m)\u001b[0m\u001b[0;34m\u001b[0m\u001b[0;34m\u001b[0m\u001b[0m\n\u001b[1;32m    174\u001b[0m             \u001b[0mtime\u001b[0m\u001b[0;34m.\u001b[0m\u001b[0msleep\u001b[0m\u001b[0;34m(\u001b[0m\u001b[0;36m2\u001b[0m\u001b[0;34m)\u001b[0m\u001b[0;34m\u001b[0m\u001b[0;34m\u001b[0m\u001b[0m\n",
      "\u001b[0;32m<ipython-input-5-4295f7d3449c>\u001b[0m in \u001b[0;36mfetch\u001b[0;34m(self, url, params)\u001b[0m\n\u001b[1;32m     57\u001b[0m     \u001b[0;32mdef\u001b[0m \u001b[0mfetch\u001b[0m\u001b[0;34m(\u001b[0m\u001b[0mself\u001b[0m\u001b[0;34m,\u001b[0m \u001b[0murl\u001b[0m\u001b[0;34m,\u001b[0m \u001b[0mparams\u001b[0m\u001b[0;34m)\u001b[0m\u001b[0;34m:\u001b[0m\u001b[0;34m\u001b[0m\u001b[0;34m\u001b[0m\u001b[0m\n\u001b[1;32m     58\u001b[0m         \u001b[0mself\u001b[0m\u001b[0;34m.\u001b[0m\u001b[0mheaders\u001b[0m\u001b[0;34m[\u001b[0m\u001b[0;34m'user-agent'\u001b[0m\u001b[0;34m]\u001b[0m \u001b[0;34m=\u001b[0m \u001b[0mrandom\u001b[0m\u001b[0;34m.\u001b[0m\u001b[0mchoice\u001b[0m\u001b[0;34m(\u001b[0m\u001b[0mUSER_AGENTS\u001b[0m\u001b[0;34m)\u001b[0m\u001b[0;34m\u001b[0m\u001b[0;34m\u001b[0m\u001b[0m\n\u001b[0;32m---> 59\u001b[0;31m         \u001b[0mresponse\u001b[0m \u001b[0;34m=\u001b[0m \u001b[0mrequests\u001b[0m\u001b[0;34m.\u001b[0m\u001b[0mget\u001b[0m\u001b[0;34m(\u001b[0m\u001b[0murl\u001b[0m\u001b[0;34m,\u001b[0m \u001b[0mheaders\u001b[0m\u001b[0;34m=\u001b[0m\u001b[0mself\u001b[0m\u001b[0;34m.\u001b[0m\u001b[0mheaders\u001b[0m\u001b[0;34m,\u001b[0m \u001b[0mparams\u001b[0m\u001b[0;34m=\u001b[0m\u001b[0mparams\u001b[0m\u001b[0;34m,\u001b[0m \u001b[0mproxies\u001b[0m\u001b[0;34m=\u001b[0m\u001b[0;34m{\u001b[0m\u001b[0;34m'https'\u001b[0m\u001b[0;34m:\u001b[0m \u001b[0mrandom\u001b[0m\u001b[0;34m.\u001b[0m\u001b[0mchoice\u001b[0m\u001b[0;34m(\u001b[0m\u001b[0mproxies\u001b[0m\u001b[0;34m)\u001b[0m\u001b[0;34m}\u001b[0m\u001b[0;34m)\u001b[0m\u001b[0;34m\u001b[0m\u001b[0;34m\u001b[0m\u001b[0m\n\u001b[0m\u001b[1;32m     60\u001b[0m         \u001b[0mprint\u001b[0m\u001b[0;34m(\u001b[0m\u001b[0mresponse\u001b[0m\u001b[0;34m.\u001b[0m\u001b[0mstatus_code\u001b[0m\u001b[0;34m)\u001b[0m\u001b[0;34m\u001b[0m\u001b[0;34m\u001b[0m\u001b[0m\n\u001b[1;32m     61\u001b[0m         \u001b[0;32mreturn\u001b[0m \u001b[0mresponse\u001b[0m\u001b[0;34m\u001b[0m\u001b[0;34m\u001b[0m\u001b[0m\n",
      "\u001b[0;32m~/opt/anaconda3/lib/python3.8/site-packages/requests/api.py\u001b[0m in \u001b[0;36mget\u001b[0;34m(url, params, **kwargs)\u001b[0m\n\u001b[1;32m     74\u001b[0m \u001b[0;34m\u001b[0m\u001b[0m\n\u001b[1;32m     75\u001b[0m     \u001b[0mkwargs\u001b[0m\u001b[0;34m.\u001b[0m\u001b[0msetdefault\u001b[0m\u001b[0;34m(\u001b[0m\u001b[0;34m'allow_redirects'\u001b[0m\u001b[0;34m,\u001b[0m \u001b[0;32mTrue\u001b[0m\u001b[0;34m)\u001b[0m\u001b[0;34m\u001b[0m\u001b[0;34m\u001b[0m\u001b[0m\n\u001b[0;32m---> 76\u001b[0;31m     \u001b[0;32mreturn\u001b[0m \u001b[0mrequest\u001b[0m\u001b[0;34m(\u001b[0m\u001b[0;34m'get'\u001b[0m\u001b[0;34m,\u001b[0m \u001b[0murl\u001b[0m\u001b[0;34m,\u001b[0m \u001b[0mparams\u001b[0m\u001b[0;34m=\u001b[0m\u001b[0mparams\u001b[0m\u001b[0;34m,\u001b[0m \u001b[0;34m**\u001b[0m\u001b[0mkwargs\u001b[0m\u001b[0;34m)\u001b[0m\u001b[0;34m\u001b[0m\u001b[0;34m\u001b[0m\u001b[0m\n\u001b[0m\u001b[1;32m     77\u001b[0m \u001b[0;34m\u001b[0m\u001b[0m\n\u001b[1;32m     78\u001b[0m \u001b[0;34m\u001b[0m\u001b[0m\n",
      "\u001b[0;32m~/opt/anaconda3/lib/python3.8/site-packages/requests/api.py\u001b[0m in \u001b[0;36mrequest\u001b[0;34m(method, url, **kwargs)\u001b[0m\n\u001b[1;32m     59\u001b[0m     \u001b[0;31m# cases, and look like a memory leak in others.\u001b[0m\u001b[0;34m\u001b[0m\u001b[0;34m\u001b[0m\u001b[0;34m\u001b[0m\u001b[0m\n\u001b[1;32m     60\u001b[0m     \u001b[0;32mwith\u001b[0m \u001b[0msessions\u001b[0m\u001b[0;34m.\u001b[0m\u001b[0mSession\u001b[0m\u001b[0;34m(\u001b[0m\u001b[0;34m)\u001b[0m \u001b[0;32mas\u001b[0m \u001b[0msession\u001b[0m\u001b[0;34m:\u001b[0m\u001b[0;34m\u001b[0m\u001b[0;34m\u001b[0m\u001b[0m\n\u001b[0;32m---> 61\u001b[0;31m         \u001b[0;32mreturn\u001b[0m \u001b[0msession\u001b[0m\u001b[0;34m.\u001b[0m\u001b[0mrequest\u001b[0m\u001b[0;34m(\u001b[0m\u001b[0mmethod\u001b[0m\u001b[0;34m=\u001b[0m\u001b[0mmethod\u001b[0m\u001b[0;34m,\u001b[0m \u001b[0murl\u001b[0m\u001b[0;34m=\u001b[0m\u001b[0murl\u001b[0m\u001b[0;34m,\u001b[0m \u001b[0;34m**\u001b[0m\u001b[0mkwargs\u001b[0m\u001b[0;34m)\u001b[0m\u001b[0;34m\u001b[0m\u001b[0;34m\u001b[0m\u001b[0m\n\u001b[0m\u001b[1;32m     62\u001b[0m \u001b[0;34m\u001b[0m\u001b[0m\n\u001b[1;32m     63\u001b[0m \u001b[0;34m\u001b[0m\u001b[0m\n",
      "\u001b[0;32m~/opt/anaconda3/lib/python3.8/site-packages/requests/sessions.py\u001b[0m in \u001b[0;36mrequest\u001b[0;34m(self, method, url, params, data, headers, cookies, files, auth, timeout, allow_redirects, proxies, hooks, stream, verify, cert, json)\u001b[0m\n\u001b[1;32m    528\u001b[0m         }\n\u001b[1;32m    529\u001b[0m         \u001b[0msend_kwargs\u001b[0m\u001b[0;34m.\u001b[0m\u001b[0mupdate\u001b[0m\u001b[0;34m(\u001b[0m\u001b[0msettings\u001b[0m\u001b[0;34m)\u001b[0m\u001b[0;34m\u001b[0m\u001b[0;34m\u001b[0m\u001b[0m\n\u001b[0;32m--> 530\u001b[0;31m         \u001b[0mresp\u001b[0m \u001b[0;34m=\u001b[0m \u001b[0mself\u001b[0m\u001b[0;34m.\u001b[0m\u001b[0msend\u001b[0m\u001b[0;34m(\u001b[0m\u001b[0mprep\u001b[0m\u001b[0;34m,\u001b[0m \u001b[0;34m**\u001b[0m\u001b[0msend_kwargs\u001b[0m\u001b[0;34m)\u001b[0m\u001b[0;34m\u001b[0m\u001b[0;34m\u001b[0m\u001b[0m\n\u001b[0m\u001b[1;32m    531\u001b[0m \u001b[0;34m\u001b[0m\u001b[0m\n\u001b[1;32m    532\u001b[0m         \u001b[0;32mreturn\u001b[0m \u001b[0mresp\u001b[0m\u001b[0;34m\u001b[0m\u001b[0;34m\u001b[0m\u001b[0m\n",
      "\u001b[0;32m~/opt/anaconda3/lib/python3.8/site-packages/requests/sessions.py\u001b[0m in \u001b[0;36msend\u001b[0;34m(self, request, **kwargs)\u001b[0m\n\u001b[1;32m    641\u001b[0m \u001b[0;34m\u001b[0m\u001b[0m\n\u001b[1;32m    642\u001b[0m         \u001b[0;31m# Send the request\u001b[0m\u001b[0;34m\u001b[0m\u001b[0;34m\u001b[0m\u001b[0;34m\u001b[0m\u001b[0m\n\u001b[0;32m--> 643\u001b[0;31m         \u001b[0mr\u001b[0m \u001b[0;34m=\u001b[0m \u001b[0madapter\u001b[0m\u001b[0;34m.\u001b[0m\u001b[0msend\u001b[0m\u001b[0;34m(\u001b[0m\u001b[0mrequest\u001b[0m\u001b[0;34m,\u001b[0m \u001b[0;34m**\u001b[0m\u001b[0mkwargs\u001b[0m\u001b[0;34m)\u001b[0m\u001b[0;34m\u001b[0m\u001b[0;34m\u001b[0m\u001b[0m\n\u001b[0m\u001b[1;32m    644\u001b[0m \u001b[0;34m\u001b[0m\u001b[0m\n\u001b[1;32m    645\u001b[0m         \u001b[0;31m# Total elapsed time of the request (approximately)\u001b[0m\u001b[0;34m\u001b[0m\u001b[0;34m\u001b[0m\u001b[0;34m\u001b[0m\u001b[0m\n",
      "\u001b[0;32m~/opt/anaconda3/lib/python3.8/site-packages/requests/adapters.py\u001b[0m in \u001b[0;36msend\u001b[0;34m(self, request, stream, timeout, verify, cert, proxies)\u001b[0m\n\u001b[1;32m    508\u001b[0m \u001b[0;34m\u001b[0m\u001b[0m\n\u001b[1;32m    509\u001b[0m             \u001b[0;32mif\u001b[0m \u001b[0misinstance\u001b[0m\u001b[0;34m(\u001b[0m\u001b[0me\u001b[0m\u001b[0;34m.\u001b[0m\u001b[0mreason\u001b[0m\u001b[0;34m,\u001b[0m \u001b[0m_ProxyError\u001b[0m\u001b[0;34m)\u001b[0m\u001b[0;34m:\u001b[0m\u001b[0;34m\u001b[0m\u001b[0;34m\u001b[0m\u001b[0m\n\u001b[0;32m--> 510\u001b[0;31m                 \u001b[0;32mraise\u001b[0m \u001b[0mProxyError\u001b[0m\u001b[0;34m(\u001b[0m\u001b[0me\u001b[0m\u001b[0;34m,\u001b[0m \u001b[0mrequest\u001b[0m\u001b[0;34m=\u001b[0m\u001b[0mrequest\u001b[0m\u001b[0;34m)\u001b[0m\u001b[0;34m\u001b[0m\u001b[0;34m\u001b[0m\u001b[0m\n\u001b[0m\u001b[1;32m    511\u001b[0m \u001b[0;34m\u001b[0m\u001b[0m\n\u001b[1;32m    512\u001b[0m             \u001b[0;32mif\u001b[0m \u001b[0misinstance\u001b[0m\u001b[0;34m(\u001b[0m\u001b[0me\u001b[0m\u001b[0;34m.\u001b[0m\u001b[0mreason\u001b[0m\u001b[0;34m,\u001b[0m \u001b[0m_SSLError\u001b[0m\u001b[0;34m)\u001b[0m\u001b[0;34m:\u001b[0m\u001b[0;34m\u001b[0m\u001b[0;34m\u001b[0m\u001b[0m\n",
      "\u001b[0;31mProxyError\u001b[0m: HTTPSConnectionPool(host='www.zillow.com', port=443): Max retries exceeded with url: /ca/houses/?searchQueryState=%7B%22pagination%22%3A%7B%22currentPage%22%3A17%7D%2C%22usersSearchTerm%22%3A%22ca%22%2C%22mapBounds%22%3A%22mapBounds%22%3A%7B%22west%22%3A-116.73594918758027%2C%22east%22%3A-115.8364435723459%2C%22south%22%3A33.43613945636894%2C%22north%22%3A34.202829290316075%7D%2C%22regionSelection%22%3A%5B%7B%22regionId%22%3A9%2C%22regionType%22%3A2%7D%5D%2C%22isMapVisible%22%3Atrue%2C%22mapZoom%22%3A5%2C%22filterState%22%3A%7B%22sortSelection%22%3A%7B%22value%22%3A%22globalrelevanceex%22%7D%2C%22isCondo%22%3A%7B%22value%22%3Afalse%7D%2C%22isMultiFamily%22%3A%7B%22value%22%3Afalse%7D%2C%22isManufactured%22%3A%7B%22value%22%3Afalse%7D%2C%22isLotLand%22%3A%7B%22value%22%3Afalse%7D%2C%22isTownhouse%22%3A%7B%22value%22%3Afalse%7D%2C%22isApartment%22%3A%7B%22value%22%3Afalse%7D%2C%22isComingSoon%22%3A%7B%22value%22%3Afalse%7D%2C%22isAuction%22%3A%7B%22value%22%3Afalse%7D%2C%22doz%22%3A%7B%22value%22%3A%2290%22%7D%7D%2C%22isListVisible%22%3Atrue%7D (Caused by ProxyError('Cannot connect to proxy.', RemoteDisconnected('Remote end closed connection without response')))"
     ]
    }
   ],
   "metadata": {}
  },
  {
   "cell_type": "code",
   "execution_count": 6,
   "source": [
    "ZillowScraper.results"
   ],
   "outputs": [
    {
     "output_type": "execute_result",
     "data": {
      "text/plain": [
       "[]"
      ]
     },
     "metadata": {},
     "execution_count": 6
    }
   ],
   "metadata": {}
  },
  {
   "cell_type": "code",
   "execution_count": 23,
   "source": [
    "print(laquitna.results)"
   ],
   "outputs": [
    {
     "output_type": "stream",
     "name": "stdout",
     "text": [
      "[{'latitude': 33.726901, 'longitude': -116.292401, 'floorSize': '1,818', 'url': 'https://www.zillow.com/homedetails/44360-Villeta-Dr-La-Quinta-CA-92253/18055323_zpid/', 'price': '$575,000'}, {'latitude': 33.669236, 'longitude': -116.312944, 'floorSize': '1,350', 'url': 'https://www.zillow.com/homedetails/52228-Avenida-Obregon-La-Quinta-CA-92253/18151136_zpid/', 'price': '$579,000'}, {'latitude': 33.657007, 'longitude': -116.310057, 'floorSize': '1,226', 'url': 'https://www.zillow.com/homedetails/53845-Avenida-Herrera-La-Quinta-CA-92253/18153544_zpid/', 'price': '$399,000'}, {'latitude': 33.725092, 'longitude': -116.297491, 'floorSize': '3,045', 'url': 'https://www.zillow.com/homedetails/78400-Via-Caliente-La-Quinta-CA-92253/64633359_zpid/', 'price': '$759,000'}, {'latitude': 33.723626, 'longitude': -116.291389, 'floorSize': '2,032', 'url': 'https://www.zillow.com/homedetails/44770-Seeley-Dr-La-Quinta-CA-92253/18055579_zpid/', 'price': '$550,000'}, {'latitude': 33.653787, 'longitude': -116.266358, 'floorSize': '3,365', 'url': 'https://www.zillow.com/homedetails/54-E-Residence-Club-Dr-La-Quinta-CA-92253/2069551732_zpid/', 'price': '$99,000'}, {'latitude': 33.655257, 'longitude': -116.265891, 'floorSize': '3,365', 'url': 'https://www.zillow.com/community/residence-club-at-pga-west/2082165996_zpid/', 'price': '$154,000+'}, {'latitude': 33.653785, 'longitude': -116.310399, 'floorSize': '1,685', 'url': 'https://www.zillow.com/homedetails/54320-Avenida-Vallejo-La-Quinta-CA-92253/18154137_zpid/', 'price': '$469,000'}, {'latitude': 33.656173, 'longitude': -116.266709, 'floorSize': '3,365', 'url': 'https://www.zillow.com/homedetails/80-N-Residence-Club-Dr-La-Quinta-CA-92253/2069551687_zpid/', 'price': '$229,000'}, {'latitude': 33.657765, 'longitude': -116.310917, 'floorSize': '1,341', 'url': 'https://www.zillow.com/homedetails/53753-Avenida-Vallejo-La-Quinta-CA-92253/18153517_zpid/', 'price': '$499,995'}, {'latitude': 33.669711, 'longitude': -116.318586, 'floorSize': '1,600', 'url': 'https://www.zillow.com/homedetails/52125-Avenida-Cortez-La-Quinta-CA-92253/18151015_zpid/', 'price': '$486,900'}, {'latitude': 33.66597, 'longitude': -116.309195, 'floorSize': '1,596', 'url': 'https://www.zillow.com/homedetails/52685-Avenida-Velasco-La-Quinta-CA-92253/18151798_zpid/', 'price': '$475,000'}, {'latitude': 33.654435, 'longitude': -116.280606, 'floorSize': '2,302', 'url': 'https://www.zillow.com/homedetails/79735-Via-San-Mateo-La-Quinta-CA-92253/303947459_zpid/', 'price': '$737,990'}, {'latitude': 33.641749, 'longitude': -116.262566, 'floorSize': '1,901', 'url': 'https://www.zillow.com/community/signature-pga-west/2073089457_zpid/', 'price': '$548,900+'}, {'latitude': 33.681574, 'longitude': -116.256068, 'floorSize': '4,284', 'url': 'https://www.zillow.com/homedetails/50565-El-Dorado-Dr-La-Quinta-CA-92253/61301390_zpid/', 'price': '$2,175,000'}, {'latitude': 33.676348, 'longitude': -116.310918, 'floorSize': '1,887', 'url': 'https://www.zillow.com/homedetails/51245-Avenida-Vallejo-La-Quinta-CA-92253/18150136_zpid/', 'price': '$619,000'}, {'latitude': 33.63838, 'longitude': -116.247916, 'floorSize': '3,698', 'url': 'https://www.zillow.com/homedetails/81165-Golf-View-Dr-La-Quinta-CA-92253/54963384_zpid/', 'price': '$1,259,000'}, {'latitude': 33.730833, 'longitude': -116.286606, 'floorSize': '2,525', 'url': 'https://www.zillow.com/homedetails/43720-Skyward-Way-La-Quinta-CA-92253/18063475_zpid/', 'price': '$599,000'}]\n"
     ]
    }
   ],
   "metadata": {}
  },
  {
   "cell_type": "code",
   "execution_count": 9,
   "source": [
    "class Employee:\n",
    "    \n",
    "    def __init__(self, first, last, pay):\n",
    "        self.first = first\n",
    "        self.last = last\n",
    "        self.pay = pay\n",
    "\n",
    "    def fullname(self):\n",
    "        return '{} {}'.format(self.first, self.last)\n",
    "\n",
    "\n",
    "emp1 = Employee('Sam','Bour', 500)\n",
    "\n",
    "emp1.fullname()"
   ],
   "outputs": [
    {
     "output_type": "execute_result",
     "data": {
      "text/plain": [
       "'Sam Bour'"
      ]
     },
     "metadata": {},
     "execution_count": 9
    }
   ],
   "metadata": {}
  },
  {
   "cell_type": "code",
   "execution_count": 7,
   "source": [],
   "outputs": [
    {
     "output_type": "execute_result",
     "data": {
      "text/plain": [
       "'Sam'"
      ]
     },
     "metadata": {},
     "execution_count": 7
    }
   ],
   "metadata": {}
  },
  {
   "cell_type": "code",
   "execution_count": null,
   "source": [],
   "outputs": [],
   "metadata": {}
  }
 ],
 "metadata": {
  "interpreter": {
   "hash": "fa37a564a25274c56c0ccf70a0bfa1b03cb9afd672bb4b199f2c549936d0f024"
  },
  "kernelspec": {
   "display_name": "Python 3.8.5 64-bit ('base': conda)",
   "name": "python3"
  },
  "language_info": {
   "codemirror_mode": {
    "name": "ipython",
    "version": 3
   },
   "file_extension": ".py",
   "mimetype": "text/x-python",
   "name": "python",
   "nbconvert_exporter": "python",
   "pygments_lexer": "ipython3",
   "version": "3.8.5"
  },
  "orig_nbformat": 4
 },
 "nbformat": 4,
 "nbformat_minor": 2
}