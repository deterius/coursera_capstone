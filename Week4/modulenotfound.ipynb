{
 "cells": [
  {
   "cell_type": "code",
   "execution_count": null,
   "metadata": {},
   "outputs": [],
   "source": [
    "import sys\n",
    "sys.path\n",
    "# sys.path.append('/Users/simeonbourim/.pyenv/versions/3.7.3/Python.framework/Versions/3.7/lib/python3.7/site-packages')"
   ]
  }
 ],
 "metadata": {
  "interpreter": {
   "hash": "fa37a564a25274c56c0ccf70a0bfa1b03cb9afd672bb4b199f2c549936d0f024"
  },
  "kernelspec": {
   "display_name": "Python 3.8.5 64-bit ('base': conda)",
   "name": "python3"
  },
  "language_info": {
   "name": "python",
   "version": ""
  },
  "orig_nbformat": 4
 },
 "nbformat": 4,
 "nbformat_minor": 2
}