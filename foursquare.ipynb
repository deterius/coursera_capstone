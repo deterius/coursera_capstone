{
 "cells": [
  {
   "cell_type": "code",
   "execution_count": 1,
   "metadata": {},
   "outputs": [],
   "source": [
    "import json, requests\n",
    "url = 'https://api.foursquare.com/v2/venues/explore'\n",
    "\n",
    "params = dict(\n",
    "client_id='EZH4ERBYQUEFWGXF300Z2F2MGAVYER22QXQL50PBV4PTO02B',\n",
    "client_secret='EJV41SURWZJNTRURBKEPEXQRT0JWWAOELP50MPUJHKBQSSBL',\n",
    "v='20180323',\n",
    "ll='40.7243,-74.0018',\n",
    "query='coffee',\n",
    "limit=1\n",
    ")\n",
    "resp = requests.get(url=url, params=params)\n",
    "data = json.loads(resp.text)"
   ]
  },
  {
   "cell_type": "code",
   "execution_count": 2,
   "metadata": {},
   "outputs": [
    {
     "name": "stdout",
     "output_type": "stream",
     "text": [
      "{'meta': {'code': 200, 'requestId': '60e2bab50462594c166e5c2e'}, 'response': {'suggestedFilters': {'header': 'Tap to show:', 'filters': [{'name': '$-$$$$', 'key': 'price'}]}, 'warning': {'text': 'There aren\\'t a lot of results for \"coffee.\" Try something more general, reset your filters, or expand the search area.'}, 'suggestedRadius': 600, 'headerLocation': 'SoHo', 'headerFullLocation': 'SoHo, New York', 'headerLocationGranularity': 'neighborhood', 'query': 'coffee', 'totalResults': 67, 'suggestedBounds': {'ne': {'lat': 40.72445115622661, 'lng': -74.00383671516222}, 'sw': {'lat': 40.72175149644116, 'lng': -74.00111827835521}}, 'groups': [{'type': 'Recommended Places', 'name': 'recommended', 'items': [{'reasons': {'count': 0, 'items': [{'summary': 'This spot is popular', 'type': 'general', 'reasonName': 'globalInteractionReason'}]}, 'venue': {'id': '45e98bacf964a52080431fe3', 'name': 'MarieBelle', 'contact': {}, 'location': {'address': '484 Broome St', 'crossStreet': 'btwn W Broadway & Wooster St', 'lat': 40.72310132633388, 'lng': -74.00247749675871, 'labeledLatLngs': [{'label': 'display', 'lat': 40.72310132633388, 'lng': -74.00247749675871}], 'distance': 145, 'postalCode': '10013', 'cc': 'US', 'city': 'New York', 'state': 'NY', 'country': 'United States', 'formattedAddress': ['484 Broome St (btwn W Broadway & Wooster St)', 'New York, NY 10013', 'United States']}, 'categories': [{'id': '4bf58dd8d48988d1d0941735', 'name': 'Dessert Shop', 'pluralName': 'Dessert Shops', 'shortName': 'Desserts', 'icon': {'prefix': 'https://ss3.4sqi.net/img/categories_v2/food/dessert_', 'suffix': '.png'}, 'primary': True}], 'verified': True, 'stats': {'tipCount': 0, 'usersCount': 0, 'checkinsCount': 0, 'visitsCount': 0}, 'delivery': {'id': '488596', 'url': 'https://www.seamless.com/menu/marie-belle-new-york-484-broome-st-new-york/488596?affiliate=1131&utm_source=foursquare-affiliate-network&utm_medium=affiliate&utm_campaign=1131&utm_content=488596', 'provider': {'name': 'seamless', 'icon': {'prefix': 'https://fastly.4sqi.net/img/general/cap/', 'sizes': [40, 50], 'name': '/delivery_provider_seamless_20180129.png'}}}, 'beenHere': {'count': 0, 'lastCheckinExpiredAt': 0, 'marked': False, 'unconfirmedCount': 0}, 'photos': {'count': 0, 'groups': []}, 'venuePage': {'id': '81170724'}, 'hereNow': {'count': 0, 'summary': 'Nobody here', 'groups': []}}, 'referralId': 'e-0-45e98bacf964a52080431fe3-0'}]}]}}\n"
     ]
    }
   ],
   "source": [
    "print(data)"
   ]
  },
  {
   "cell_type": "code",
   "execution_count": 4,
   "metadata": {},
   "outputs": [
    {
     "name": "stdout",
     "output_type": "stream",
     "text": [
      "['/Users/simeonbourim/ML/CRSERA/CAPSTONE/coursera_capstone', '/Users/simeonbourim/.vscode/extensions/ms-toolsai.jupyter-2021.6.999662501/pythonFiles/vscode_datascience_helpers', '/Users/simeonbourim/.vscode/extensions/ms-toolsai.jupyter-2021.6.999662501/pythonFiles', '/Users/simeonbourim/.vscode/extensions/ms-toolsai.jupyter-2021.6.999662501/pythonFiles/lib/python', '/Users/simeonbourim/opt/anaconda3/lib/python38.zip', '/Users/simeonbourim/opt/anaconda3/lib/python3.8', '/Users/simeonbourim/opt/anaconda3/lib/python3.8/lib-dynload', '', '/Users/simeonbourim/opt/anaconda3/lib/python3.8/site-packages', '/Users/simeonbourim/opt/anaconda3/lib/python3.8/site-packages/aeosa', '/Users/simeonbourim/opt/anaconda3/lib/python3.8/site-packages/IPython/extensions', '/Users/simeonbourim/.ipython']\n"
     ]
    }
   ],
   "source": [
    "import sys\n",
    "print(sys.path)"
   ]
  },
  {
   "cell_type": "code",
   "execution_count": null,
   "metadata": {},
   "outputs": [],
   "source": []
  }
 ],
 "metadata": {
  "interpreter": {
   "hash": "fa37a564a25274c56c0ccf70a0bfa1b03cb9afd672bb4b199f2c549936d0f024"
  },
  "kernelspec": {
   "display_name": "Python 3.8.5 64-bit ('base': conda)",
   "name": "python3"
  },
  "language_info": {
   "codemirror_mode": {
    "name": "ipython",
    "version": 3
   },
   "file_extension": ".py",
   "mimetype": "text/x-python",
   "name": "python",
   "nbconvert_exporter": "python",
   "pygments_lexer": "ipython3",
   "version": "3.8.5"
  },
  "orig_nbformat": 4
 },
 "nbformat": 4,
 "nbformat_minor": 2
}